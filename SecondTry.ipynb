{
 "cells": [
  {
   "cell_type": "code",
   "execution_count": 1,
   "metadata": {},
   "outputs": [],
   "source": [
    "import getpass\n",
    "import os\n",
    "from langchain_huggingface.embeddings import HuggingFaceEndpointEmbeddings\n",
    "\n",
    "# Set Hugging Face API key\n",
    "if not os.environ.get(\"HUGGINGFACEHUB_API_TOKEN\"):\n",
    "    os.environ[\"HUGGINGFACEHUB_API_TOKEN\"] = getpass.getpass(\"Enter API key for Hugging Face: \")\n",
    "\n",
    "hf_embeddings = HuggingFaceEndpointEmbeddings(\n",
    "    model= \"mixedbread-ai/mxbai-embed-large-v1\",\n",
    "    task=\"feature-extraction\",\n",
    "    huggingfacehub_api_token=os.environ[\"HUGGINGFACEHUB_API_TOKEN\"]\n",
    ")\n"
   ]
  },
  {
   "cell_type": "code",
   "execution_count": 2,
   "metadata": {},
   "outputs": [],
   "source": [
    "# from langchain_huggingface import HuggingFaceEmbeddings\n",
    "\n",
    "# embeddings = HuggingFaceEmbeddings(\n",
    "#     model_name=\"sentence-transformers/all-mpnet-base-v2\",\n",
    "# )"
   ]
  },
  {
   "cell_type": "code",
   "execution_count": null,
   "metadata": {},
   "outputs": [],
   "source": [
    "texts = [\"Hello, world!\", \"How are you?\"]\n",
    "embeddings.embed_documents(texts)"
   ]
  },
  {
   "cell_type": "code",
   "execution_count": 3,
   "metadata": {},
   "outputs": [
    {
     "name": "stderr",
     "output_type": "stream",
     "text": [
      "c:\\Users\\LEEH007\\source\\AI\\First_RAG\\venv\\Lib\\site-packages\\huggingface_hub\\utils\\_deprecation.py:131: FutureWarning: 'post' (from 'huggingface_hub.inference._client') is deprecated and will be removed from version '0.31.0'. Making direct POST requests to the inference server is not supported anymore. Please use task methods instead (e.g. `InferenceClient.chat_completion`). If your use case is not supported, please open an issue in https://github.com/huggingface/huggingface_hub.\n",
      "  warnings.warn(warning_message, FutureWarning)\n"
     ]
    },
    {
     "name": "stdout",
     "output_type": "stream",
     "text": [
      "Retrieved: Face is the front part of a person's head, including eyes, nose, and mouth. Flower is a living creature, including petals, stem, and roots. Head is the upper part of the human body, containing the brain, eyes, ears, nose, and mouth.\n"
     ]
    }
   ],
   "source": [
    "from langchain_community.vectorstores import InMemoryVectorStore\n",
    "from langchain.schema import Document\n",
    "\n",
    "# Initialize the in-memory vector store\n",
    "vector_store2 = InMemoryVectorStore(hf_embeddings)\n",
    "\n",
    "# Example paragraph\n",
    "paragraph = \"Face is the front part of a person's head, including eyes, nose, and mouth. Flower is a living creature, including petals, stem, and roots. Head is the upper part of the human body, containing the brain, eyes, ears, nose, and mouth.\"\n",
    "\n",
    "# Convert paragraph into a document object\n",
    "doc = Document(page_content=paragraph)\n",
    "\n",
    "# Add the document to the vector store\n",
    "vector_store2.add_documents([doc])\n",
    "\n",
    "# Test retrieval with a query\n",
    "query = \"What is a flower?\"\n",
    "retrieved_docs = vector_store2.similarity_search(query, k=1)\n",
    "\n",
    "# Print retrieved document\n",
    "print(\"Retrieved:\", retrieved_docs[0].page_content)"
   ]
  },
  {
   "cell_type": "markdown",
   "metadata": {},
   "source": [
    "# Example paragraph\n",
    "paragraph = \"Face is the front part of a person's head, including eyes, nose, and mouth. \\n\\n\\n Flower is a living creature, including petals, stem, and roots. \\n\\n\\n Head is the upper part of the human body, containing the brain, eyes, ears, nose, and mouth.\"\n",
    "\n",
    "# Convert paragraph into a document object\n",
    "doc = Document(page_content=paragraph)\n",
    "\n",
    "# Add the document to the vector store\n",
    "vector_store.add_documents([doc])\n",
    "\n",
    "# Test retrieval with a query\n",
    "query = \"What is a flower?\"\n",
    "retrieved_docs = vector_store.similarity_search(query, k=1)\n",
    "\n",
    "# Print retrieved document\n",
    "print(\"Retrieved:\", retrieved_docs[0].page_content)"
   ]
  },
  {
   "cell_type": "code",
   "execution_count": 14,
   "metadata": {},
   "outputs": [],
   "source": [
    "from langchain_community.llms import HuggingFaceHub\n",
    "\n",
    "llm = HuggingFaceHub(\n",
    "    repo_id=\"mistralai/Mistral-Nemo-Instruct-2407\",  # Change to your preferred model\n",
    "    model_kwargs={\"temperature\": 0.1, \"max_length\": 50},\n",
    ")"
   ]
  },
  {
   "cell_type": "code",
   "execution_count": null,
   "metadata": {},
   "outputs": [
    {
     "name": "stderr",
     "output_type": "stream",
     "text": [
      "c:\\Users\\LEEH007\\source\\AI\\First_RAG\\venv\\Lib\\site-packages\\huggingface_hub\\utils\\_deprecation.py:131: FutureWarning: 'post' (from 'huggingface_hub.inference._client') is deprecated and will be removed from version '0.31.0'. Making direct POST requests to the inference server is not supported anymore. Please use task methods instead (e.g. `InferenceClient.chat_completion`). If your use case is not supported, please open an issue in https://github.com/huggingface/huggingface_hub.\n",
      "  warnings.warn(warning_message, FutureWarning)\n"
     ]
    },
    {
     "name": "stdout",
     "output_type": "stream",
     "text": [
      "Short Output: Use the given context to answer user's query.\n",
      "\n",
      "    Query:\n",
      "    What are the entities?\n",
      "\n",
      "    Context:\n",
      "    Face is the front part of a person's head, including eyes, nose, and mouth. Flower is a living creature, including petals, stem, and roots. Head is the upper part of the human body, containing the brain, eyes, ears, nose, and mouth. \n",
      "    \n",
      "    Give a concise answer in one sentence.\n"
     ]
    }
   ],
   "source": [
    "# Retrieve most relevant document\n",
    "retrieved_text = retrieved_docs[0].page_content\n",
    "\n",
    "# Summarize it to 15 words\n",
    "# Explicit summarization prompt\n",
    "summary_prompt = (\n",
    "    # \"Task: Summarize the following text **in exactly 15 words**.\\n\\n\"\n",
    "    # \"Text:\\n\"\n",
    "    # f\"{retrieved_text}\\n\\n\"\n",
    "    # \"Summary (15 words only):\"\n",
    "    f\"\"\"\n",
    "    Use the given context to answer user's query.\n",
    "\n",
    "    Query:\n",
    "    {query}\n",
    "\n",
    "    Context:\n",
    "    {retrieved_text} \n",
    "    \n",
    "    Give a concise answer in one sentence.\n",
    "\n",
    "    \"\"\".strip()\n",
    ")\n",
    "short_summary = llm.invoke(summary_prompt)\n",
    "\n",
    "print(\"Short Output:\", short_summary)\n",
    "\n"
   ]
  },
  {
   "cell_type": "code",
   "execution_count": 23,
   "metadata": {},
   "outputs": [
    {
     "name": "stderr",
     "output_type": "stream",
     "text": [
      "c:\\Users\\LEEH007\\source\\AI\\First_RAG\\venv\\Lib\\site-packages\\huggingface_hub\\utils\\_deprecation.py:131: FutureWarning: 'post' (from 'huggingface_hub.inference._client') is deprecated and will be removed from version '0.31.0'. Making direct POST requests to the inference server is not supported anymore. Please use task methods instead (e.g. `InferenceClient.chat_completion`). If your use case is not supported, please open an issue in https://github.com/huggingface/huggingface_hub.\n",
      "  warnings.warn(warning_message, FutureWarning)\n"
     ]
    },
    {
     "name": "stdout",
     "output_type": "stream",
     "text": [
      "another Output: Task: What are the entities?**.\n",
      "\n",
      "Text:\n",
      "Face is the front part of a person's head, including eyes, nose, and mouth. Flower is a living creature, including petals, stem, and roots. Head is the upper part of the human body, containing the brain, eyes, ears, nose, and mouth.\n",
      "\n",
      ": Entities:\n",
      "- Face\n",
      "- Flower\n",
      "- Head\n"
     ]
    }
   ],
   "source": [
    "\n",
    "summary_prompt = (\n",
    "    \"Task: What are the entities?**.\\n\\n\"\n",
    "    \"Text:\\n\"\n",
    "    f\"{retrieved_text}\\n\\n\"\n",
    "    \":\"\n",
    ")\n",
    "short_summary = llm.invoke(summary_prompt)\n",
    "\n",
    "print(\"another Output:\", short_summary)"
   ]
  },
  {
   "cell_type": "code",
   "execution_count": null,
   "metadata": {},
   "outputs": [],
   "source": [
    "# Test the LLM with a Prompt\n",
    "response = llm.invoke(\"What is hugging face?\")\n",
    "print(response)\n"
   ]
  }
 ],
 "metadata": {
  "kernelspec": {
   "display_name": "venv",
   "language": "python",
   "name": "python3"
  },
  "language_info": {
   "codemirror_mode": {
    "name": "ipython",
    "version": 3
   },
   "file_extension": ".py",
   "mimetype": "text/x-python",
   "name": "python",
   "nbconvert_exporter": "python",
   "pygments_lexer": "ipython3",
   "version": "3.13.2"
  }
 },
 "nbformat": 4,
 "nbformat_minor": 2
}
